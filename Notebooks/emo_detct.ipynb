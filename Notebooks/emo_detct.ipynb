{
 "cells": [
  {
   "cell_type": "code",
   "execution_count": null,
   "metadata": {},
   "outputs": [],
   "source": [
    "import torch\n",
    "import timm"
   ]
  },
  {
   "cell_type": "code",
   "execution_count": null,
   "metadata": {},
   "outputs": [],
   "source": [
    "# Load model architecture\n",
    "model = timm.create_model(\"mobilevitv2_100\", pretrained=False, num_classes=9)  # Change num_classes if needed tf_efficientnetv2_s\n",
    "model.load_state_dict(torch.load(\"/Users/nelson/py/paper_impl/emotion_classifier/models/best_model_ema_47.pth\", map_location=\"cpu\"))\n",
    "model.eval()\n",
    "\n",
    "device = torch.device(\"mps\" if torch.backends.mps.is_available() else \"cpu\")\n",
    "model.to(device)"
   ]
  },
  {
   "cell_type": "code",
   "execution_count": null,
   "metadata": {},
   "outputs": [],
   "source": [
    "import torchvision.transforms as transforms\n",
    "\n",
    "transform = transforms.Compose([\n",
    "    transforms.ToPILImage(),\n",
    "    transforms.Resize((256, 256)),  # Match MobileViTv2 input size\n",
    "    transforms.ToTensor(),\n",
    "    transforms.Normalize(mean=[0.5]*3, std=[0.5]*3)\n",
    "])\n"
   ]
  },
  {
   "cell_type": "code",
   "execution_count": null,
   "metadata": {},
   "outputs": [],
   "source": [
    "import mediapipe as mp\n",
    "import cv2\n",
    "\n",
    "mp_face_detection = mp.solutions.face_detection\n",
    "face_detector = mp_face_detection.FaceDetection(model_selection=0, min_detection_confidence=0.5)\n"
   ]
  },
  {
   "cell_type": "code",
   "execution_count": null,
   "metadata": {},
   "outputs": [],
   "source": [
    "# Emotion labels (example for 9 classes — change based on your dataset)\n",
    "emotion_labels = ['neutral', 'happy', 'sad', 'angry', 'fearful', 'disgusted', 'surprised', 'confused', 'calm']\n",
    "\n",
    "cap = cv2.VideoCapture(0)\n",
    "\n",
    "while cap.isOpened():\n",
    "    ret, frame = cap.read()\n",
    "    if not ret:\n",
    "        break\n",
    "\n",
    "    img_rgb = cv2.cvtColor(frame, cv2.COLOR_BGR2RGB)\n",
    "    results = face_detector.process(img_rgb)\n",
    "\n",
    "    if results.detections:\n",
    "        for detection in results.detections:\n",
    "            bboxC = detection.location_data.relative_bounding_box\n",
    "            ih, iw, _ = frame.shape\n",
    "            x1 = int(bboxC.xmin * iw)\n",
    "            y1 = int(bboxC.ymin * ih)\n",
    "            w = int(bboxC.width * iw)\n",
    "            h = int(bboxC.height * ih)\n",
    "\n",
    "            # Ensure box is within image bounds\n",
    "            x1, y1 = max(x1, 0), max(y1, 0)\n",
    "            x2, y2 = min(x1 + w, iw), min(y1 + h, ih)\n",
    "\n",
    "            # Crop and preprocess face\n",
    "            face = frame[y1:y2, x1:x2]\n",
    "            if face.size == 0:\n",
    "                continue\n",
    "\n",
    "            face_tensor = transform(face).unsqueeze(0).to(device)\n",
    "\n",
    "            # Run emotion prediction\n",
    "            with torch.no_grad():\n",
    "                output = model(face_tensor)\n",
    "                pred = torch.argmax(output, dim=1).item()\n",
    "                label = emotion_labels[pred]\n",
    "\n",
    "            # Draw bounding box and label\n",
    "            cv2.rectangle(frame, (x1, y1), (x2, y2), (0, 255, 0), 2)\n",
    "            cv2.putText(frame, label, (x1, y1 - 10), cv2.FONT_HERSHEY_SIMPLEX, 1, (255, 0, 0), 2)\n",
    "\n",
    "    cv2.imshow(\"Facial Emotion Recognition\", frame)\n",
    "    if cv2.waitKey(1) & 0xFF == ord(\"q\"):\n",
    "        break\n",
    "\n",
    "cap.release()\n",
    "cv2.destroyAllWindows()\n"
   ]
  }
 ],
 "metadata": {
  "kernelspec": {
   "display_name": "ml",
   "language": "python",
   "name": "python3"
  },
  "language_info": {
   "codemirror_mode": {
    "name": "ipython",
    "version": 3
   },
   "file_extension": ".py",
   "mimetype": "text/x-python",
   "name": "python",
   "nbconvert_exporter": "python",
   "pygments_lexer": "ipython3",
   "version": "3.12.2"
  }
 },
 "nbformat": 4,
 "nbformat_minor": 2
}

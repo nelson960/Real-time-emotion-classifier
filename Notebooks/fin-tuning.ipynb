{
 "cells": [
  {
   "cell_type": "code",
   "execution_count": 1,
   "metadata": {},
   "outputs": [],
   "source": [
    "import os\n",
    "import torch\n",
    "import torch.nn as nn\n",
    "import torch.nn.functional as F\n",
    "import numpy as np\n",
    "from timm import create_model\n",
    "from torchvision import datasets, transforms\n",
    "from torch.utils.data import DataLoader\n",
    "from sklearn.metrics import accuracy_score, f1_score, classification_report, confusion_matrix\n",
    "from torch_ema import ExponentialMovingAverage\n",
    "from timm.data.mixup import Mixup\n",
    "import matplotlib.pyplot as plt\n",
    "import seaborn as sns\n",
    "from tqdm.auto import tqdm"
   ]
  },
  {
   "cell_type": "markdown",
   "metadata": {},
   "source": [
    "### Config"
   ]
  },
  {
   "cell_type": "code",
   "execution_count": 2,
   "metadata": {},
   "outputs": [],
   "source": [
    "# ----------------- Settings -----------------\n",
    "DATA_DIR = \"/Users/nelson/py/paper_impl/emotion_classifier/fane_dataset\"\n",
    "SAVE_DIR = \"models\"\n",
    "NUM_CLASSES = 9\n",
    "IMG_SIZE = 256\n",
    "EPOCHS = 50\n",
    "BATCH_SIZE = 32\n",
    "GRAD_ACCUM = 4\n",
    "USE_EMA = True\n",
    "os.makedirs(SAVE_DIR, exist_ok=True)\n",
    "\n",
    "device = torch.device(\"mps\" if torch.backends.mps.is_available() else \"cpu\")"
   ]
  },
  {
   "cell_type": "code",
   "execution_count": 3,
   "metadata": {},
   "outputs": [],
   "source": [
    "# ----------------- Custom Loss -----------------\n",
    "class ClassBalancedFocalLoss(nn.Module):\n",
    "    def __init__(self, beta, gamma, class_counts):\n",
    "        super().__init__()\n",
    "        class_counts = torch.tensor(class_counts, dtype=torch.float32).to(device)\n",
    "        effective_num = 1.0 - torch.pow(beta, class_counts)\n",
    "        weights = (1.0 - beta) / effective_num\n",
    "        weights = weights / weights.sum() * NUM_CLASSES\n",
    "        self.class_weights = weights\n",
    "        self.gamma = gamma\n",
    "\n",
    "    def forward(self, logits, targets):\n",
    "        ce_loss = F.cross_entropy(logits, targets, weight=self.class_weights, reduction='none')\n",
    "        pt = torch.exp(-ce_loss)\n",
    "        focal_loss = ((1 - pt) ** self.gamma * ce_loss).mean()\n",
    "        return focal_loss\n",
    "\n",
    "# ----------------- Temperature Scaling -----------------\n",
    "class TemperatureScaler(nn.Module):\n",
    "    def __init__(self):\n",
    "        super().__init__()\n",
    "        self.temperature = nn.Parameter(torch.ones(1) * 1.5)\n",
    "\n",
    "    def forward(self, logits):\n",
    "        return logits / self.temperature\n",
    "\n",
    "def calibrate_temperature(model, val_loader):\n",
    "    scaler = TemperatureScaler().to(device)\n",
    "    model.eval().to(device)\n",
    "    logits_list, labels_list = [], []\n",
    "\n",
    "    if ema:\n",
    "        ema.store()\n",
    "        ema.copy_to(model.parameters())\n",
    "\n",
    "    with torch.no_grad():\n",
    "        for x, y in val_loader:\n",
    "            x, y = x.to(device), y.to(device)\n",
    "            logits_list.append(model(x))\n",
    "            labels_list.append(y)\n",
    "\n",
    "    if ema:\n",
    "        ema.restore()\n",
    "\n",
    "    logits = torch.cat(logits_list)\n",
    "    labels = torch.cat(labels_list)\n",
    "    optimizer = torch.optim.LBFGS([scaler.temperature], lr=0.01, max_iter=50)\n",
    "\n",
    "    def eval_fn():\n",
    "        optimizer.zero_grad()\n",
    "        loss = F.cross_entropy(scaler(logits), labels)\n",
    "        loss.backward()\n",
    "        return loss\n",
    "\n",
    "    optimizer.step(eval_fn)\n",
    "    print(f\"\\U0001f321️ Calibrated Temp: {scaler.temperature.item():.4f}\")\n",
    "    return scaler"
   ]
  },
  {
   "cell_type": "code",
   "execution_count": 4,
   "metadata": {},
   "outputs": [],
   "source": [
    "# ----------------- Data Transforms -----------------\n",
    "train_tf = transforms.Compose([\n",
    "    transforms.RandomResizedCrop(IMG_SIZE, scale=(0.8, 1.0)),\n",
    "    transforms.RandomHorizontalFlip(),\n",
    "    transforms.RandAugment(num_ops=2, magnitude=9),\n",
    "    transforms.ToTensor(),\n",
    "    transforms.Normalize(mean=[0.485, 0.456, 0.406], std=[0.229, 0.224, 0.225])\n",
    "])\n",
    "val_tf = transforms.Compose([\n",
    "    transforms.Resize((IMG_SIZE, IMG_SIZE)),\n",
    "    transforms.ToTensor(),\n",
    "    transforms.Normalize([0.485, 0.456, 0.406], [0.229, 0.224, 0.225])\n",
    "])\n",
    "\n",
    "train_ds = datasets.ImageFolder(os.path.join(DATA_DIR, \"train\"), transform=train_tf)\n",
    "val_ds = datasets.ImageFolder(os.path.join(DATA_DIR, \"val\"), transform=val_tf)\n",
    "train_loader = DataLoader(train_ds, batch_size=BATCH_SIZE, shuffle=True, num_workers=4, pin_memory=True)\n",
    "val_loader = DataLoader(val_ds, batch_size=BATCH_SIZE, shuffle=False, num_workers=4, pin_memory=True)\n",
    "\n",
    "# ----------------- Class Weights + Loss -----------------\n",
    "train_targets = np.array(train_ds.targets)\n",
    "class_counts = np.bincount(train_targets, minlength=NUM_CLASSES)\n",
    "criterion = ClassBalancedFocalLoss(beta=0.999, gamma=1.5, class_counts=class_counts)"
   ]
  },
  {
   "cell_type": "code",
   "execution_count": 5,
   "metadata": {},
   "outputs": [
    {
     "name": "stdout",
     "output_type": "stream",
     "text": [
      "Train classes: ['angry', 'confused', 'disgust', 'fear', 'happy', 'neutral', 'sad', 'shy', 'surprise']\n",
      "Validation classes: ['angry', 'confused', 'disgust', 'fear', 'happy', 'neutral', 'sad', 'shy', 'surprise']\n"
     ]
    }
   ],
   "source": [
    "print(\"Train classes:\", train_ds.classes)\n",
    "print(\"Validation classes:\", val_ds.classes)\n",
    "\n",
    "assert train_ds.classes == val_ds.classes, \"Class mismatch between train and validation sets!\""
   ]
  },
  {
   "cell_type": "code",
   "execution_count": 6,
   "metadata": {},
   "outputs": [
    {
     "name": "stdout",
     "output_type": "stream",
     "text": [
      "\n",
      "📅 Epoch 1/50\n",
      "Unfreezing Stage 4 (deepest)\n"
     ]
    },
    {
     "data": {
      "application/vnd.jupyter.widget-view+json": {
       "model_id": "d5668ff109a647c5abd217f14aca60af",
       "version_major": 2,
       "version_minor": 0
      },
      "text/plain": [
       "🪝️ Train 01:   0%|          | 0/370 [00:05<?, ?it/s]"
      ]
     },
     "metadata": {},
     "output_type": "display_data"
    },
    {
     "data": {
      "application/vnd.jupyter.widget-view+json": {
       "model_id": "529a67c5c9ec44ae97895137ee333e60",
       "version_major": 2,
       "version_minor": 0
      },
      "text/plain": [
       "Validate 01:   0%|          | 0/80 [00:05<?, ?it/s]"
      ]
     },
     "metadata": {},
     "output_type": "display_data"
    },
    {
     "name": "stdout",
     "output_type": "stream",
     "text": [
      "✅ Epoch 01 | 🔁 LR: 1.52e-05 | 🎯 Acc: 0.2657 | 🧠 F1: 0.2097 | 📉 Loss: 1.6946\n",
      "🔥 Saved best model at epoch 1 with F1 = 0.2097\n",
      "\n",
      "📅 Epoch 2/50\n",
      "Unfreezing Stage 3\n"
     ]
    },
    {
     "data": {
      "application/vnd.jupyter.widget-view+json": {
       "model_id": "750aec22e36e409f8f73961f51cf3d16",
       "version_major": 2,
       "version_minor": 0
      },
      "text/plain": [
       "🪝️ Train 02:   0%|          | 0/370 [00:05<?, ?it/s]"
      ]
     },
     "metadata": {},
     "output_type": "display_data"
    },
    {
     "data": {
      "application/vnd.jupyter.widget-view+json": {
       "model_id": "08f2eb9c1c71442cb708c03bf326f531",
       "version_major": 2,
       "version_minor": 0
      },
      "text/plain": [
       "Validate 02:   0%|          | 0/80 [00:05<?, ?it/s]"
      ]
     },
     "metadata": {},
     "output_type": "display_data"
    },
    {
     "name": "stdout",
     "output_type": "stream",
     "text": [
      "✅ Epoch 02 | 🔁 LR: 2.45e-05 | 🎯 Acc: 0.3209 | 🧠 F1: 0.2675 | 📉 Loss: 1.5493\n",
      "🔥 Saved best model at epoch 2 with F1 = 0.2675\n",
      "\n",
      "📅 Epoch 3/50\n"
     ]
    },
    {
     "data": {
      "application/vnd.jupyter.widget-view+json": {
       "model_id": "b9934572baad4f959be58a0b2279bfd8",
       "version_major": 2,
       "version_minor": 0
      },
      "text/plain": [
       "🪝️ Train 03:   0%|          | 0/370 [00:05<?, ?it/s]"
      ]
     },
     "metadata": {},
     "output_type": "display_data"
    },
    {
     "data": {
      "application/vnd.jupyter.widget-view+json": {
       "model_id": "061599134a584ab48310778076bd2fd0",
       "version_major": 2,
       "version_minor": 0
      },
      "text/plain": [
       "Validate 03:   0%|          | 0/80 [00:05<?, ?it/s]"
      ]
     },
     "metadata": {},
     "output_type": "display_data"
    },
    {
     "name": "stdout",
     "output_type": "stream",
     "text": [
      "✅ Epoch 03 | 🔁 LR: 3.95e-05 | 🎯 Acc: 0.3867 | 🧠 F1: 0.3620 | 📉 Loss: 1.4408\n",
      "🔥 Saved best model at epoch 3 with F1 = 0.3620\n",
      "\n",
      "📅 Epoch 4/50\n",
      "Unfreezing Stage 2\n"
     ]
    },
    {
     "data": {
      "application/vnd.jupyter.widget-view+json": {
       "model_id": "0793c99e690f4f3db90fd66408b7912f",
       "version_major": 2,
       "version_minor": 0
      },
      "text/plain": [
       "🪝️ Train 04:   0%|          | 0/370 [00:05<?, ?it/s]"
      ]
     },
     "metadata": {},
     "output_type": "display_data"
    },
    {
     "data": {
      "application/vnd.jupyter.widget-view+json": {
       "model_id": "763873acb27b4ba5be6c3b06853b1df3",
       "version_major": 2,
       "version_minor": 0
      },
      "text/plain": [
       "Validate 04:   0%|          | 0/80 [00:05<?, ?it/s]"
      ]
     },
     "metadata": {},
     "output_type": "display_data"
    },
    {
     "name": "stdout",
     "output_type": "stream",
     "text": [
      "✅ Epoch 04 | 🔁 LR: 5.97e-05 | 🎯 Acc: 0.4182 | 🧠 F1: 0.3971 | 📉 Loss: 1.3561\n",
      "🔥 Saved best model at epoch 4 with F1 = 0.3971\n",
      "\n",
      "📅 Epoch 5/50\n"
     ]
    },
    {
     "data": {
      "application/vnd.jupyter.widget-view+json": {
       "model_id": "c361e8c7552c43c2ba6b79878b981128",
       "version_major": 2,
       "version_minor": 0
      },
      "text/plain": [
       "🪝️ Train 05:   0%|          | 0/370 [00:04<?, ?it/s]"
      ]
     },
     "metadata": {},
     "output_type": "display_data"
    },
    {
     "data": {
      "application/vnd.jupyter.widget-view+json": {
       "model_id": "8bc6b6b14c1645fa8c9b312c7349586f",
       "version_major": 2,
       "version_minor": 0
      },
      "text/plain": [
       "Validate 05:   0%|          | 0/80 [00:04<?, ?it/s]"
      ]
     },
     "metadata": {},
     "output_type": "display_data"
    },
    {
     "name": "stdout",
     "output_type": "stream",
     "text": [
      "✅ Epoch 05 | 🔁 LR: 8.41e-05 | 🎯 Acc: 0.4505 | 🧠 F1: 0.4442 | 📉 Loss: 1.2831\n",
      "🔥 Saved best model at epoch 5 with F1 = 0.4442\n",
      "\n",
      "📅 Epoch 6/50\n",
      "Unfreezing Stage 1 (earliest layers)\n"
     ]
    },
    {
     "data": {
      "application/vnd.jupyter.widget-view+json": {
       "model_id": "dd6e8139d1b34266bd7ceb7a7a4885ab",
       "version_major": 2,
       "version_minor": 0
      },
      "text/plain": [
       "🪝️ Train 06:   0%|          | 0/370 [00:05<?, ?it/s]"
      ]
     },
     "metadata": {},
     "output_type": "display_data"
    },
    {
     "data": {
      "application/vnd.jupyter.widget-view+json": {
       "model_id": "cf015edba9144a9f8338949840d586e4",
       "version_major": 2,
       "version_minor": 0
      },
      "text/plain": [
       "Validate 06:   0%|          | 0/80 [00:05<?, ?it/s]"
      ]
     },
     "metadata": {},
     "output_type": "display_data"
    },
    {
     "name": "stdout",
     "output_type": "stream",
     "text": [
      "✅ Epoch 06 | 🔁 LR: 1.12e-04 | 🎯 Acc: 0.4769 | 🧠 F1: 0.4708 | 📉 Loss: 1.2226\n",
      "🔥 Saved best model at epoch 6 with F1 = 0.4708\n",
      "\n",
      "📅 Epoch 7/50\n"
     ]
    },
    {
     "data": {
      "application/vnd.jupyter.widget-view+json": {
       "model_id": "3bf1efe4b41241a9a125a4637ae7785b",
       "version_major": 2,
       "version_minor": 0
      },
      "text/plain": [
       "🪝️ Train 07:   0%|          | 0/370 [00:04<?, ?it/s]"
      ]
     },
     "metadata": {},
     "output_type": "display_data"
    },
    {
     "data": {
      "application/vnd.jupyter.widget-view+json": {
       "model_id": "e2a6b459fc1b43ebb9ac8a9f13dd7463",
       "version_major": 2,
       "version_minor": 0
      },
      "text/plain": [
       "Validate 07:   0%|          | 0/80 [00:05<?, ?it/s]"
      ]
     },
     "metadata": {},
     "output_type": "display_data"
    },
    {
     "name": "stdout",
     "output_type": "stream",
     "text": [
      "✅ Epoch 07 | 🔁 LR: 1.41e-04 | 🎯 Acc: 0.4966 | 🧠 F1: 0.4940 | 📉 Loss: 1.1684\n",
      "🔥 Saved best model at epoch 7 with F1 = 0.4940\n",
      "\n",
      "📅 Epoch 8/50\n"
     ]
    },
    {
     "data": {
      "application/vnd.jupyter.widget-view+json": {
       "model_id": "4961effd8f9b45cc9f56e05fd4a851bc",
       "version_major": 2,
       "version_minor": 0
      },
      "text/plain": [
       "🪝️ Train 08:   0%|          | 0/370 [00:04<?, ?it/s]"
      ]
     },
     "metadata": {},
     "output_type": "display_data"
    },
    {
     "name": "stderr",
     "output_type": "stream",
     "text": [
      "IOStream.flush timed out\n",
      "IOStream.flush timed out\n",
      "IOStream.flush timed out\n",
      "IOStream.flush timed out\n",
      "IOStream.flush timed out\n",
      "IOStream.flush timed out\n"
     ]
    },
    {
     "data": {
      "application/vnd.jupyter.widget-view+json": {
       "model_id": "c33cb964e0f544358aa23af09d3780c2",
       "version_major": 2,
       "version_minor": 0
      },
      "text/plain": [
       "Validate 08:   0%|          | 0/80 [00:05<?, ?it/s]"
      ]
     },
     "metadata": {},
     "output_type": "display_data"
    },
    {
     "name": "stdout",
     "output_type": "stream",
     "text": [
      "✅ Epoch 08 | 🔁 LR: 1.71e-04 | 🎯 Acc: 0.5175 | 🧠 F1: 0.5072 | 📉 Loss: 1.1345\n",
      "🔥 Saved best model at epoch 8 with F1 = 0.5072\n",
      "\n",
      "📅 Epoch 9/50\n"
     ]
    },
    {
     "data": {
      "application/vnd.jupyter.widget-view+json": {
       "model_id": "7bb6410b3b694e94ac3f7175e262daa8",
       "version_major": 2,
       "version_minor": 0
      },
      "text/plain": [
       "🪝️ Train 09:   0%|          | 0/370 [00:04<?, ?it/s]"
      ]
     },
     "metadata": {},
     "output_type": "display_data"
    },
    {
     "data": {
      "application/vnd.jupyter.widget-view+json": {
       "model_id": "6249b73ad222469aa0ae32ceaca677e2",
       "version_major": 2,
       "version_minor": 0
      },
      "text/plain": [
       "Validate 09:   0%|          | 0/80 [00:05<?, ?it/s]"
      ]
     },
     "metadata": {},
     "output_type": "display_data"
    },
    {
     "name": "stdout",
     "output_type": "stream",
     "text": [
      "✅ Epoch 09 | 🔁 LR: 2.01e-04 | 🎯 Acc: 0.5333 | 🧠 F1: 0.5297 | 📉 Loss: 1.0900\n",
      "🔥 Saved best model at epoch 9 with F1 = 0.5297\n",
      "\n",
      "📅 Epoch 10/50\n"
     ]
    },
    {
     "data": {
      "application/vnd.jupyter.widget-view+json": {
       "model_id": "ca439af4442141a29b8e4a841a21e038",
       "version_major": 2,
       "version_minor": 0
      },
      "text/plain": [
       "🪝️ Train 10:   0%|          | 0/370 [00:04<?, ?it/s]"
      ]
     },
     "metadata": {},
     "output_type": "display_data"
    },
    {
     "data": {
      "application/vnd.jupyter.widget-view+json": {
       "model_id": "77a99b2c655144d69e26eeb857db1584",
       "version_major": 2,
       "version_minor": 0
      },
      "text/plain": [
       "Validate 10:   0%|          | 0/80 [00:05<?, ?it/s]"
      ]
     },
     "metadata": {},
     "output_type": "display_data"
    },
    {
     "name": "stdout",
     "output_type": "stream",
     "text": [
      "✅ Epoch 10 | 🔁 LR: 2.28e-04 | 🎯 Acc: 0.5424 | 🧠 F1: 0.5376 | 📉 Loss: 1.0613\n",
      "🔥 Saved best model at epoch 10 with F1 = 0.5376\n",
      "\n",
      "📅 Epoch 11/50\n"
     ]
    },
    {
     "data": {
      "application/vnd.jupyter.widget-view+json": {
       "model_id": "7417969eb82f4b13b135cb9074602430",
       "version_major": 2,
       "version_minor": 0
      },
      "text/plain": [
       "🪝️ Train 11:   0%|          | 0/370 [00:04<?, ?it/s]"
      ]
     },
     "metadata": {},
     "output_type": "display_data"
    },
    {
     "name": "stderr",
     "output_type": "stream",
     "text": [
      "IOStream.flush timed out\n",
      "IOStream.flush timed out\n",
      "IOStream.flush timed out\n",
      "IOStream.flush timed out\n",
      "IOStream.flush timed out\n"
     ]
    },
    {
     "data": {
      "application/vnd.jupyter.widget-view+json": {
       "model_id": "b9ef10dfcca74533a111287d1dad7735",
       "version_major": 2,
       "version_minor": 0
      },
      "text/plain": [
       "Validate 11:   0%|          | 0/80 [00:05<?, ?it/s]"
      ]
     },
     "metadata": {},
     "output_type": "display_data"
    },
    {
     "name": "stdout",
     "output_type": "stream",
     "text": [
      "✅ Epoch 11 | 🔁 LR: 2.53e-04 | 🎯 Acc: 0.5522 | 🧠 F1: 0.5508 | 📉 Loss: 1.0579\n",
      "🔥 Saved best model at epoch 11 with F1 = 0.5508\n",
      "\n",
      "📅 Epoch 12/50\n"
     ]
    },
    {
     "data": {
      "application/vnd.jupyter.widget-view+json": {
       "model_id": "c15807a2e53646d8b0a59d2372c563bb",
       "version_major": 2,
       "version_minor": 0
      },
      "text/plain": [
       "🪝️ Train 12:   0%|          | 0/370 [00:04<?, ?it/s]"
      ]
     },
     "metadata": {},
     "output_type": "display_data"
    },
    {
     "data": {
      "application/vnd.jupyter.widget-view+json": {
       "model_id": "8e7eac0bb0cb4290b8ee30df7261a3c3",
       "version_major": 2,
       "version_minor": 0
      },
      "text/plain": [
       "Validate 12:   0%|          | 0/80 [00:05<?, ?it/s]"
      ]
     },
     "metadata": {},
     "output_type": "display_data"
    },
    {
     "name": "stdout",
     "output_type": "stream",
     "text": [
      "✅ Epoch 12 | 🔁 LR: 2.73e-04 | 🎯 Acc: 0.5609 | 🧠 F1: 0.5580 | 📉 Loss: 1.0192\n",
      "🔥 Saved best model at epoch 12 with F1 = 0.5580\n",
      "\n",
      "📅 Epoch 13/50\n"
     ]
    },
    {
     "data": {
      "application/vnd.jupyter.widget-view+json": {
       "model_id": "f4fa305c9d2840658a4e8fa724482a2a",
       "version_major": 2,
       "version_minor": 0
      },
      "text/plain": [
       "🪝️ Train 13:   0%|          | 0/370 [00:04<?, ?it/s]"
      ]
     },
     "metadata": {},
     "output_type": "display_data"
    },
    {
     "data": {
      "application/vnd.jupyter.widget-view+json": {
       "model_id": "f7aecb7904a0443bb419f8d8f3e55011",
       "version_major": 2,
       "version_minor": 0
      },
      "text/plain": [
       "Validate 13:   0%|          | 0/80 [00:05<?, ?it/s]"
      ]
     },
     "metadata": {},
     "output_type": "display_data"
    },
    {
     "name": "stdout",
     "output_type": "stream",
     "text": [
      "✅ Epoch 13 | 🔁 LR: 2.88e-04 | 🎯 Acc: 0.5743 | 🧠 F1: 0.5693 | 📉 Loss: 0.9954\n",
      "🔥 Saved best model at epoch 13 with F1 = 0.5693\n",
      "\n",
      "📅 Epoch 14/50\n"
     ]
    },
    {
     "data": {
      "application/vnd.jupyter.widget-view+json": {
       "model_id": "ee3ead00533d4fc5a6b55d596b93d0b6",
       "version_major": 2,
       "version_minor": 0
      },
      "text/plain": [
       "🪝️ Train 14:   0%|          | 0/370 [00:04<?, ?it/s]"
      ]
     },
     "metadata": {},
     "output_type": "display_data"
    },
    {
     "name": "stderr",
     "output_type": "stream",
     "text": [
      "IOStream.flush timed out\n",
      "IOStream.flush timed out\n",
      "IOStream.flush timed out\n",
      "IOStream.flush timed out\n",
      "IOStream.flush timed out\n"
     ]
    },
    {
     "data": {
      "application/vnd.jupyter.widget-view+json": {
       "model_id": "d081f16dc81941c5a674e2453a83fe86",
       "version_major": 2,
       "version_minor": 0
      },
      "text/plain": [
       "Validate 14:   0%|          | 0/80 [00:04<?, ?it/s]"
      ]
     },
     "metadata": {},
     "output_type": "display_data"
    },
    {
     "name": "stdout",
     "output_type": "stream",
     "text": [
      "✅ Epoch 14 | 🔁 LR: 2.97e-04 | 🎯 Acc: 0.5775 | 🧠 F1: 0.5740 | 📉 Loss: 0.9805\n",
      "🔥 Saved best model at epoch 14 with F1 = 0.5740\n",
      "\n",
      "📅 Epoch 15/50\n"
     ]
    },
    {
     "data": {
      "application/vnd.jupyter.widget-view+json": {
       "model_id": "8e473a85f8194e4691d84003ce9cbcad",
       "version_major": 2,
       "version_minor": 0
      },
      "text/plain": [
       "🪝️ Train 15:   0%|          | 0/370 [00:04<?, ?it/s]"
      ]
     },
     "metadata": {},
     "output_type": "display_data"
    },
    {
     "data": {
      "application/vnd.jupyter.widget-view+json": {
       "model_id": "57e691cd45e04c1792be11ebdcfccbc3",
       "version_major": 2,
       "version_minor": 0
      },
      "text/plain": [
       "Validate 15:   0%|          | 0/80 [00:05<?, ?it/s]"
      ]
     },
     "metadata": {},
     "output_type": "display_data"
    },
    {
     "name": "stdout",
     "output_type": "stream",
     "text": [
      "✅ Epoch 15 | 🔁 LR: 3.00e-04 | 🎯 Acc: 0.5759 | 🧠 F1: 0.5742 | 📉 Loss: 0.9736\n",
      "🔥 Saved best model at epoch 15 with F1 = 0.5742\n",
      "\n",
      "📅 Epoch 16/50\n"
     ]
    },
    {
     "data": {
      "application/vnd.jupyter.widget-view+json": {
       "model_id": "4dc163407064488a8eaf6a087ad8e3d9",
       "version_major": 2,
       "version_minor": 0
      },
      "text/plain": [
       "🪝️ Train 16:   0%|          | 0/370 [00:04<?, ?it/s]"
      ]
     },
     "metadata": {},
     "output_type": "display_data"
    },
    {
     "data": {
      "application/vnd.jupyter.widget-view+json": {
       "model_id": "d27a43aeed3d488a853d45ba222ce882",
       "version_major": 2,
       "version_minor": 0
      },
      "text/plain": [
       "Validate 16:   0%|          | 0/80 [00:05<?, ?it/s]"
      ]
     },
     "metadata": {},
     "output_type": "display_data"
    },
    {
     "name": "stdout",
     "output_type": "stream",
     "text": [
      "✅ Epoch 16 | 🔁 LR: 2.99e-04 | 🎯 Acc: 0.5798 | 🧠 F1: 0.5789 | 📉 Loss: 0.9180\n",
      "🔥 Saved best model at epoch 16 with F1 = 0.5789\n",
      "\n",
      "📅 Epoch 17/50\n"
     ]
    },
    {
     "data": {
      "application/vnd.jupyter.widget-view+json": {
       "model_id": "55f4d8620c2a45fc987fa0875c663477",
       "version_major": 2,
       "version_minor": 0
      },
      "text/plain": [
       "🪝️ Train 17:   0%|          | 0/370 [00:04<?, ?it/s]"
      ]
     },
     "metadata": {},
     "output_type": "display_data"
    },
    {
     "data": {
      "application/vnd.jupyter.widget-view+json": {
       "model_id": "47dc51c66b5345899301a8e62c24dc0d",
       "version_major": 2,
       "version_minor": 0
      },
      "text/plain": [
       "Validate 17:   0%|          | 0/80 [00:05<?, ?it/s]"
      ]
     },
     "metadata": {},
     "output_type": "display_data"
    },
    {
     "name": "stdout",
     "output_type": "stream",
     "text": [
      "✅ Epoch 17 | 🔁 LR: 2.98e-04 | 🎯 Acc: 0.5794 | 🧠 F1: 0.5785 | 📉 Loss: 0.9080\n",
      "\n",
      "📅 Epoch 18/50\n"
     ]
    },
    {
     "data": {
      "application/vnd.jupyter.widget-view+json": {
       "model_id": "036fafcea1e24d3ba9fb194855e8f7ba",
       "version_major": 2,
       "version_minor": 0
      },
      "text/plain": [
       "🪝️ Train 18:   0%|          | 0/370 [00:04<?, ?it/s]"
      ]
     },
     "metadata": {},
     "output_type": "display_data"
    },
    {
     "data": {
      "application/vnd.jupyter.widget-view+json": {
       "model_id": "85ac117b9a034305b3c4cf6a45349c43",
       "version_major": 2,
       "version_minor": 0
      },
      "text/plain": [
       "Validate 18:   0%|          | 0/80 [00:05<?, ?it/s]"
      ]
     },
     "metadata": {},
     "output_type": "display_data"
    },
    {
     "name": "stdout",
     "output_type": "stream",
     "text": [
      "✅ Epoch 18 | 🔁 LR: 2.95e-04 | 🎯 Acc: 0.5952 | 🧠 F1: 0.5922 | 📉 Loss: 0.8995\n",
      "🔥 Saved best model at epoch 18 with F1 = 0.5922\n",
      "\n",
      "📅 Epoch 19/50\n"
     ]
    },
    {
     "data": {
      "application/vnd.jupyter.widget-view+json": {
       "model_id": "aede1fd3b88e4d3e9911dde5c8116d28",
       "version_major": 2,
       "version_minor": 0
      },
      "text/plain": [
       "🪝️ Train 19:   0%|          | 0/370 [00:04<?, ?it/s]"
      ]
     },
     "metadata": {},
     "output_type": "display_data"
    },
    {
     "data": {
      "application/vnd.jupyter.widget-view+json": {
       "model_id": "9a2504facdbe4746ae7f0a70b41b4977",
       "version_major": 2,
       "version_minor": 0
      },
      "text/plain": [
       "Validate 19:   0%|          | 0/80 [00:05<?, ?it/s]"
      ]
     },
     "metadata": {},
     "output_type": "display_data"
    },
    {
     "name": "stdout",
     "output_type": "stream",
     "text": [
      "✅ Epoch 19 | 🔁 LR: 2.90e-04 | 🎯 Acc: 0.5972 | 🧠 F1: 0.5946 | 📉 Loss: 0.8645\n",
      "🔥 Saved best model at epoch 19 with F1 = 0.5946\n",
      "\n",
      "📅 Epoch 20/50\n"
     ]
    },
    {
     "data": {
      "application/vnd.jupyter.widget-view+json": {
       "model_id": "ae6fa54df44d468a89047b3ae75f6b60",
       "version_major": 2,
       "version_minor": 0
      },
      "text/plain": [
       "🪝️ Train 20:   0%|          | 0/370 [00:05<?, ?it/s]"
      ]
     },
     "metadata": {},
     "output_type": "display_data"
    },
    {
     "data": {
      "application/vnd.jupyter.widget-view+json": {
       "model_id": "3d4221ae9d564689a55a8f14706bbb52",
       "version_major": 2,
       "version_minor": 0
      },
      "text/plain": [
       "Validate 20:   0%|          | 0/80 [00:05<?, ?it/s]"
      ]
     },
     "metadata": {},
     "output_type": "display_data"
    },
    {
     "name": "stdout",
     "output_type": "stream",
     "text": [
      "✅ Epoch 20 | 🔁 LR: 2.85e-04 | 🎯 Acc: 0.5897 | 🧠 F1: 0.5883 | 📉 Loss: 0.8367\n",
      "\n",
      "📅 Epoch 21/50\n"
     ]
    },
    {
     "name": "stderr",
     "output_type": "stream",
     "text": [
      "IOStream.flush timed out\n",
      "IOStream.flush timed out\n",
      "IOStream.flush timed out\n",
      "IOStream.flush timed out\n",
      "IOStream.flush timed out\n",
      "IOStream.flush timed out\n",
      "IOStream.flush timed out\n",
      "IOStream.flush timed out\n"
     ]
    },
    {
     "data": {
      "application/vnd.jupyter.widget-view+json": {
       "model_id": "bb290293945041448de1796bf71155f5",
       "version_major": 2,
       "version_minor": 0
      },
      "text/plain": [
       "🪝️ Train 21:   0%|          | 0/370 [00:30<?, ?it/s]"
      ]
     },
     "metadata": {},
     "output_type": "display_data"
    },
    {
     "data": {
      "application/vnd.jupyter.widget-view+json": {
       "model_id": "b8155535c6dc4f2c9027e8cf91bd09d2",
       "version_major": 2,
       "version_minor": 0
      },
      "text/plain": [
       "Validate 21:   0%|          | 0/80 [00:05<?, ?it/s]"
      ]
     },
     "metadata": {},
     "output_type": "display_data"
    },
    {
     "name": "stdout",
     "output_type": "stream",
     "text": [
      "✅ Epoch 21 | 🔁 LR: 2.79e-04 | 🎯 Acc: 0.6098 | 🧠 F1: 0.6065 | 📉 Loss: 0.8304\n",
      "🔥 Saved best model at epoch 21 with F1 = 0.6065\n",
      "\n",
      "📅 Epoch 22/50\n"
     ]
    },
    {
     "data": {
      "application/vnd.jupyter.widget-view+json": {
       "model_id": "308346cc855b4d4ca3be3f320df8b620",
       "version_major": 2,
       "version_minor": 0
      },
      "text/plain": [
       "🪝️ Train 22:   0%|          | 0/370 [00:04<?, ?it/s]"
      ]
     },
     "metadata": {},
     "output_type": "display_data"
    },
    {
     "data": {
      "application/vnd.jupyter.widget-view+json": {
       "model_id": "9ce4e3dcefd14b349299db3358689006",
       "version_major": 2,
       "version_minor": 0
      },
      "text/plain": [
       "Validate 22:   0%|          | 0/80 [00:05<?, ?it/s]"
      ]
     },
     "metadata": {},
     "output_type": "display_data"
    },
    {
     "name": "stdout",
     "output_type": "stream",
     "text": [
      "✅ Epoch 22 | 🔁 LR: 2.71e-04 | 🎯 Acc: 0.6078 | 🧠 F1: 0.6051 | 📉 Loss: 0.8221\n",
      "\n",
      "📅 Epoch 23/50\n"
     ]
    },
    {
     "data": {
      "application/vnd.jupyter.widget-view+json": {
       "model_id": "f2b2bc2a849748e2ac81304dba8082bb",
       "version_major": 2,
       "version_minor": 0
      },
      "text/plain": [
       "🪝️ Train 23:   0%|          | 0/370 [00:04<?, ?it/s]"
      ]
     },
     "metadata": {},
     "output_type": "display_data"
    },
    {
     "data": {
      "application/vnd.jupyter.widget-view+json": {
       "model_id": "b315ff0e60054dbbb272e101b888b3f5",
       "version_major": 2,
       "version_minor": 0
      },
      "text/plain": [
       "Validate 23:   0%|          | 0/80 [00:05<?, ?it/s]"
      ]
     },
     "metadata": {},
     "output_type": "display_data"
    },
    {
     "name": "stdout",
     "output_type": "stream",
     "text": [
      "✅ Epoch 23 | 🔁 LR: 2.63e-04 | 🎯 Acc: 0.5964 | 🧠 F1: 0.5985 | 📉 Loss: 0.8137\n",
      "\n",
      "📅 Epoch 24/50\n"
     ]
    },
    {
     "data": {
      "application/vnd.jupyter.widget-view+json": {
       "model_id": "dc2d259eb61a4bf0af486a01e5267968",
       "version_major": 2,
       "version_minor": 0
      },
      "text/plain": [
       "🪝️ Train 24:   0%|          | 0/370 [00:04<?, ?it/s]"
      ]
     },
     "metadata": {},
     "output_type": "display_data"
    },
    {
     "data": {
      "application/vnd.jupyter.widget-view+json": {
       "model_id": "805629e9a92a4a289af0cb02de78789d",
       "version_major": 2,
       "version_minor": 0
      },
      "text/plain": [
       "Validate 24:   0%|          | 0/80 [00:05<?, ?it/s]"
      ]
     },
     "metadata": {},
     "output_type": "display_data"
    },
    {
     "name": "stderr",
     "output_type": "stream",
     "text": [
      "IOStream.flush timed out\n",
      "IOStream.flush timed out\n",
      "IOStream.flush timed out\n",
      "IOStream.flush timed out\n",
      "IOStream.flush timed out\n",
      "IOStream.flush timed out\n"
     ]
    },
    {
     "name": "stdout",
     "output_type": "stream",
     "text": [
      "✅ Epoch 24 | 🔁 LR: 2.54e-04 | 🎯 Acc: 0.6177 | 🧠 F1: 0.6170 | 📉 Loss: 0.8017\n",
      "🔥 Saved best model at epoch 24 with F1 = 0.6170\n",
      "\n",
      "📅 Epoch 25/50\n"
     ]
    },
    {
     "data": {
      "application/vnd.jupyter.widget-view+json": {
       "model_id": "4833cb55198f4501a4ca421c18e6bff5",
       "version_major": 2,
       "version_minor": 0
      },
      "text/plain": [
       "🪝️ Train 25:   0%|          | 0/370 [00:05<?, ?it/s]"
      ]
     },
     "metadata": {},
     "output_type": "display_data"
    },
    {
     "data": {
      "application/vnd.jupyter.widget-view+json": {
       "model_id": "7a55a1acf5694d778c7501f7f7b8ab3d",
       "version_major": 2,
       "version_minor": 0
      },
      "text/plain": [
       "Validate 25:   0%|          | 0/80 [00:05<?, ?it/s]"
      ]
     },
     "metadata": {},
     "output_type": "display_data"
    },
    {
     "name": "stdout",
     "output_type": "stream",
     "text": [
      "✅ Epoch 25 | 🔁 LR: 2.43e-04 | 🎯 Acc: 0.6177 | 🧠 F1: 0.6153 | 📉 Loss: 0.7803\n",
      "\n",
      "📅 Epoch 26/50\n"
     ]
    },
    {
     "data": {
      "application/vnd.jupyter.widget-view+json": {
       "model_id": "74b7070852a046b8b6e9f9546f20f496",
       "version_major": 2,
       "version_minor": 0
      },
      "text/plain": [
       "🪝️ Train 26:   0%|          | 0/370 [00:05<?, ?it/s]"
      ]
     },
     "metadata": {},
     "output_type": "display_data"
    },
    {
     "data": {
      "application/vnd.jupyter.widget-view+json": {
       "model_id": "ca5fe466e1944a6cbcc693dfca50cd3c",
       "version_major": 2,
       "version_minor": 0
      },
      "text/plain": [
       "Validate 26:   0%|          | 0/80 [00:05<?, ?it/s]"
      ]
     },
     "metadata": {},
     "output_type": "display_data"
    },
    {
     "name": "stdout",
     "output_type": "stream",
     "text": [
      "✅ Epoch 26 | 🔁 LR: 2.33e-04 | 🎯 Acc: 0.6251 | 🧠 F1: 0.6228 | 📉 Loss: 0.7410\n",
      "🔥 Saved best model at epoch 26 with F1 = 0.6228\n",
      "\n",
      "📅 Epoch 27/50\n"
     ]
    },
    {
     "data": {
      "application/vnd.jupyter.widget-view+json": {
       "model_id": "8bb684648f1b41adabf489a2db59ebb5",
       "version_major": 2,
       "version_minor": 0
      },
      "text/plain": [
       "🪝️ Train 27:   0%|          | 0/370 [00:04<?, ?it/s]"
      ]
     },
     "metadata": {},
     "output_type": "display_data"
    },
    {
     "data": {
      "application/vnd.jupyter.widget-view+json": {
       "model_id": "b1fc7e6cae1743d48931892e16868b1b",
       "version_major": 2,
       "version_minor": 0
      },
      "text/plain": [
       "Validate 27:   0%|          | 0/80 [00:05<?, ?it/s]"
      ]
     },
     "metadata": {},
     "output_type": "display_data"
    },
    {
     "name": "stdout",
     "output_type": "stream",
     "text": [
      "✅ Epoch 27 | 🔁 LR: 2.21e-04 | 🎯 Acc: 0.6244 | 🧠 F1: 0.6212 | 📉 Loss: 0.7251\n",
      "\n",
      "📅 Epoch 28/50\n"
     ]
    },
    {
     "data": {
      "application/vnd.jupyter.widget-view+json": {
       "model_id": "4f930f5865f54d2395f009f7c63753b2",
       "version_major": 2,
       "version_minor": 0
      },
      "text/plain": [
       "🪝️ Train 28:   0%|          | 0/370 [00:04<?, ?it/s]"
      ]
     },
     "metadata": {},
     "output_type": "display_data"
    },
    {
     "data": {
      "application/vnd.jupyter.widget-view+json": {
       "model_id": "53bfe196b0ea4bfc9c0ee6d08d6d5180",
       "version_major": 2,
       "version_minor": 0
      },
      "text/plain": [
       "Validate 28:   0%|          | 0/80 [00:04<?, ?it/s]"
      ]
     },
     "metadata": {},
     "output_type": "display_data"
    },
    {
     "name": "stdout",
     "output_type": "stream",
     "text": [
      "✅ Epoch 28 | 🔁 LR: 2.09e-04 | 🎯 Acc: 0.6259 | 🧠 F1: 0.6225 | 📉 Loss: 0.7521\n",
      "\n",
      "📅 Epoch 29/50\n"
     ]
    },
    {
     "data": {
      "application/vnd.jupyter.widget-view+json": {
       "model_id": "82e3001d84e0480692577fd279343231",
       "version_major": 2,
       "version_minor": 0
      },
      "text/plain": [
       "🪝️ Train 29:   0%|          | 0/370 [00:04<?, ?it/s]"
      ]
     },
     "metadata": {},
     "output_type": "display_data"
    },
    {
     "data": {
      "application/vnd.jupyter.widget-view+json": {
       "model_id": "24ff4b0a69234d0795e32b8da0494beb",
       "version_major": 2,
       "version_minor": 0
      },
      "text/plain": [
       "Validate 29:   0%|          | 0/80 [00:05<?, ?it/s]"
      ]
     },
     "metadata": {},
     "output_type": "display_data"
    },
    {
     "name": "stdout",
     "output_type": "stream",
     "text": [
      "✅ Epoch 29 | 🔁 LR: 1.96e-04 | 🎯 Acc: 0.6283 | 🧠 F1: 0.6260 | 📉 Loss: 0.7289\n",
      "🔥 Saved best model at epoch 29 with F1 = 0.6260\n",
      "\n",
      "📅 Epoch 30/50\n"
     ]
    },
    {
     "data": {
      "application/vnd.jupyter.widget-view+json": {
       "model_id": "6ba173bf6d6c4731b7c84b9ee9c690f3",
       "version_major": 2,
       "version_minor": 0
      },
      "text/plain": [
       "🪝️ Train 30:   0%|          | 0/370 [00:04<?, ?it/s]"
      ]
     },
     "metadata": {},
     "output_type": "display_data"
    },
    {
     "data": {
      "application/vnd.jupyter.widget-view+json": {
       "model_id": "ec9eb2e27c6043228f60f241e2cc0876",
       "version_major": 2,
       "version_minor": 0
      },
      "text/plain": [
       "Validate 30:   0%|          | 0/80 [00:05<?, ?it/s]"
      ]
     },
     "metadata": {},
     "output_type": "display_data"
    },
    {
     "name": "stdout",
     "output_type": "stream",
     "text": [
      "✅ Epoch 30 | 🔁 LR: 1.83e-04 | 🎯 Acc: 0.6342 | 🧠 F1: 0.6300 | 📉 Loss: 0.6992\n",
      "🔥 Saved best model at epoch 30 with F1 = 0.6300\n",
      "\n",
      "📅 Epoch 31/50\n"
     ]
    },
    {
     "data": {
      "application/vnd.jupyter.widget-view+json": {
       "model_id": "0af6bad07934417b83c8853712f63076",
       "version_major": 2,
       "version_minor": 0
      },
      "text/plain": [
       "🪝️ Train 31:   0%|          | 0/370 [00:04<?, ?it/s]"
      ]
     },
     "metadata": {},
     "output_type": "display_data"
    },
    {
     "data": {
      "application/vnd.jupyter.widget-view+json": {
       "model_id": "9b6505e1120c40b18523dab3c07946ef",
       "version_major": 2,
       "version_minor": 0
      },
      "text/plain": [
       "Validate 31:   0%|          | 0/80 [00:05<?, ?it/s]"
      ]
     },
     "metadata": {},
     "output_type": "display_data"
    },
    {
     "name": "stdout",
     "output_type": "stream",
     "text": [
      "✅ Epoch 31 | 🔁 LR: 1.70e-04 | 🎯 Acc: 0.6334 | 🧠 F1: 0.6308 | 📉 Loss: 0.6928\n",
      "🔥 Saved best model at epoch 31 with F1 = 0.6308\n",
      "\n",
      "📅 Epoch 32/50\n"
     ]
    },
    {
     "name": "stderr",
     "output_type": "stream",
     "text": [
      "IOStream.flush timed out\n",
      "IOStream.flush timed out\n",
      "IOStream.flush timed out\n",
      "IOStream.flush timed out\n",
      "IOStream.flush timed out\n",
      "IOStream.flush timed out\n",
      "IOStream.flush timed out\n",
      "IOStream.flush timed out\n"
     ]
    },
    {
     "data": {
      "application/vnd.jupyter.widget-view+json": {
       "model_id": "34ba7f16ca664a27890261e30e8305be",
       "version_major": 2,
       "version_minor": 0
      },
      "text/plain": [
       "🪝️ Train 32:   0%|          | 0/370 [00:30<?, ?it/s]"
      ]
     },
     "metadata": {},
     "output_type": "display_data"
    },
    {
     "data": {
      "application/vnd.jupyter.widget-view+json": {
       "model_id": "30f9859da1454fc09d81fc24e6f210ad",
       "version_major": 2,
       "version_minor": 0
      },
      "text/plain": [
       "Validate 32:   0%|          | 0/80 [00:05<?, ?it/s]"
      ]
     },
     "metadata": {},
     "output_type": "display_data"
    },
    {
     "name": "stdout",
     "output_type": "stream",
     "text": [
      "✅ Epoch 32 | 🔁 LR: 1.57e-04 | 🎯 Acc: 0.6315 | 🧠 F1: 0.6298 | 📉 Loss: 0.7090\n",
      "\n",
      "📅 Epoch 33/50\n"
     ]
    },
    {
     "data": {
      "application/vnd.jupyter.widget-view+json": {
       "model_id": "18a1d1c30be34a38b8959e63e6fcd388",
       "version_major": 2,
       "version_minor": 0
      },
      "text/plain": [
       "🪝️ Train 33:   0%|          | 0/370 [00:04<?, ?it/s]"
      ]
     },
     "metadata": {},
     "output_type": "display_data"
    },
    {
     "data": {
      "application/vnd.jupyter.widget-view+json": {
       "model_id": "4b1237d21a934cd3b0ba70d3f2f6f50e",
       "version_major": 2,
       "version_minor": 0
      },
      "text/plain": [
       "Validate 33:   0%|          | 0/80 [00:05<?, ?it/s]"
      ]
     },
     "metadata": {},
     "output_type": "display_data"
    },
    {
     "name": "stdout",
     "output_type": "stream",
     "text": [
      "✅ Epoch 33 | 🔁 LR: 1.43e-04 | 🎯 Acc: 0.6354 | 🧠 F1: 0.6305 | 📉 Loss: 0.7106\n",
      "\n",
      "📅 Epoch 34/50\n"
     ]
    },
    {
     "data": {
      "application/vnd.jupyter.widget-view+json": {
       "model_id": "ae76bd3bb4aa42bf9201fc86177525d9",
       "version_major": 2,
       "version_minor": 0
      },
      "text/plain": [
       "🪝️ Train 34:   0%|          | 0/370 [00:04<?, ?it/s]"
      ]
     },
     "metadata": {},
     "output_type": "display_data"
    },
    {
     "data": {
      "application/vnd.jupyter.widget-view+json": {
       "model_id": "0f19b7cc4d674f5ebff598071c373650",
       "version_major": 2,
       "version_minor": 0
      },
      "text/plain": [
       "Validate 34:   0%|          | 0/80 [00:05<?, ?it/s]"
      ]
     },
     "metadata": {},
     "output_type": "display_data"
    },
    {
     "name": "stdout",
     "output_type": "stream",
     "text": [
      "✅ Epoch 34 | 🔁 LR: 1.30e-04 | 🎯 Acc: 0.6362 | 🧠 F1: 0.6340 | 📉 Loss: 0.6772\n",
      "🔥 Saved best model at epoch 34 with F1 = 0.6340\n",
      "\n",
      "📅 Epoch 35/50\n"
     ]
    },
    {
     "data": {
      "application/vnd.jupyter.widget-view+json": {
       "model_id": "a6a6cf8c3c0445ff92a41ed8c517828c",
       "version_major": 2,
       "version_minor": 0
      },
      "text/plain": [
       "🪝️ Train 35:   0%|          | 0/370 [00:04<?, ?it/s]"
      ]
     },
     "metadata": {},
     "output_type": "display_data"
    },
    {
     "data": {
      "application/vnd.jupyter.widget-view+json": {
       "model_id": "e955d2666f39466989df6eace4cde8ad",
       "version_major": 2,
       "version_minor": 0
      },
      "text/plain": [
       "Validate 35:   0%|          | 0/80 [00:05<?, ?it/s]"
      ]
     },
     "metadata": {},
     "output_type": "display_data"
    },
    {
     "name": "stdout",
     "output_type": "stream",
     "text": [
      "✅ Epoch 35 | 🔁 LR: 1.16e-04 | 🎯 Acc: 0.6330 | 🧠 F1: 0.6309 | 📉 Loss: 0.6790\n",
      "\n",
      "📅 Epoch 36/50\n"
     ]
    },
    {
     "data": {
      "application/vnd.jupyter.widget-view+json": {
       "model_id": "4fb4b61bb515499f89d843d8f475a433",
       "version_major": 2,
       "version_minor": 0
      },
      "text/plain": [
       "🪝️ Train 36:   0%|          | 0/370 [00:04<?, ?it/s]"
      ]
     },
     "metadata": {},
     "output_type": "display_data"
    },
    {
     "data": {
      "application/vnd.jupyter.widget-view+json": {
       "model_id": "8cf87ffd61a941fbb277adff20a6e611",
       "version_major": 2,
       "version_minor": 0
      },
      "text/plain": [
       "Validate 36:   0%|          | 0/80 [00:05<?, ?it/s]"
      ]
     },
     "metadata": {},
     "output_type": "display_data"
    },
    {
     "name": "stdout",
     "output_type": "stream",
     "text": [
      "✅ Epoch 36 | 🔁 LR: 1.04e-04 | 🎯 Acc: 0.6374 | 🧠 F1: 0.6335 | 📉 Loss: 0.6370\n",
      "\n",
      "📅 Epoch 37/50\n"
     ]
    },
    {
     "data": {
      "application/vnd.jupyter.widget-view+json": {
       "model_id": "5a95a382a3a5412fa88ae68a3826fe69",
       "version_major": 2,
       "version_minor": 0
      },
      "text/plain": [
       "🪝️ Train 37:   0%|          | 0/370 [00:04<?, ?it/s]"
      ]
     },
     "metadata": {},
     "output_type": "display_data"
    },
    {
     "data": {
      "application/vnd.jupyter.widget-view+json": {
       "model_id": "a640276179d24659aa4bce1f13fc1129",
       "version_major": 2,
       "version_minor": 0
      },
      "text/plain": [
       "Validate 37:   0%|          | 0/80 [00:05<?, ?it/s]"
      ]
     },
     "metadata": {},
     "output_type": "display_data"
    },
    {
     "name": "stdout",
     "output_type": "stream",
     "text": [
      "✅ Epoch 37 | 🔁 LR: 9.09e-05 | 🎯 Acc: 0.6338 | 🧠 F1: 0.6302 | 📉 Loss: 0.6577\n",
      "\n",
      "📅 Epoch 38/50\n"
     ]
    },
    {
     "data": {
      "application/vnd.jupyter.widget-view+json": {
       "model_id": "3bd36ec0717141a8918979b430de544c",
       "version_major": 2,
       "version_minor": 0
      },
      "text/plain": [
       "🪝️ Train 38:   0%|          | 0/370 [00:04<?, ?it/s]"
      ]
     },
     "metadata": {},
     "output_type": "display_data"
    },
    {
     "data": {
      "application/vnd.jupyter.widget-view+json": {
       "model_id": "82451c78984443438fa9d215dda565ef",
       "version_major": 2,
       "version_minor": 0
      },
      "text/plain": [
       "Validate 38:   0%|          | 0/80 [00:05<?, ?it/s]"
      ]
     },
     "metadata": {},
     "output_type": "display_data"
    },
    {
     "name": "stdout",
     "output_type": "stream",
     "text": [
      "✅ Epoch 38 | 🔁 LR: 7.88e-05 | 🎯 Acc: 0.6374 | 🧠 F1: 0.6340 | 📉 Loss: 0.6475\n",
      "\n",
      "📅 Epoch 39/50\n"
     ]
    },
    {
     "data": {
      "application/vnd.jupyter.widget-view+json": {
       "model_id": "4b8ed2120d264c46b714d05d468759e4",
       "version_major": 2,
       "version_minor": 0
      },
      "text/plain": [
       "🪝️ Train 39:   0%|          | 0/370 [00:04<?, ?it/s]"
      ]
     },
     "metadata": {},
     "output_type": "display_data"
    },
    {
     "data": {
      "application/vnd.jupyter.widget-view+json": {
       "model_id": "6a87931f44f84635bf2986864ddf505e",
       "version_major": 2,
       "version_minor": 0
      },
      "text/plain": [
       "Validate 39:   0%|          | 0/80 [00:05<?, ?it/s]"
      ]
     },
     "metadata": {},
     "output_type": "display_data"
    },
    {
     "name": "stdout",
     "output_type": "stream",
     "text": [
      "✅ Epoch 39 | 🔁 LR: 6.72e-05 | 🎯 Acc: 0.6378 | 🧠 F1: 0.6344 | 📉 Loss: 0.6441\n",
      "🔥 Saved best model at epoch 39 with F1 = 0.6344\n",
      "\n",
      "📅 Epoch 40/50\n"
     ]
    },
    {
     "data": {
      "application/vnd.jupyter.widget-view+json": {
       "model_id": "e024b07a1b8540f49e9430c707d6e1ec",
       "version_major": 2,
       "version_minor": 0
      },
      "text/plain": [
       "🪝️ Train 40:   0%|          | 0/370 [00:04<?, ?it/s]"
      ]
     },
     "metadata": {},
     "output_type": "display_data"
    },
    {
     "data": {
      "application/vnd.jupyter.widget-view+json": {
       "model_id": "0a00012991c04bcb9729575b563e4bd7",
       "version_major": 2,
       "version_minor": 0
      },
      "text/plain": [
       "Validate 40:   0%|          | 0/80 [00:05<?, ?it/s]"
      ]
     },
     "metadata": {},
     "output_type": "display_data"
    },
    {
     "name": "stdout",
     "output_type": "stream",
     "text": [
      "✅ Epoch 40 | 🔁 LR: 5.64e-05 | 🎯 Acc: 0.6425 | 🧠 F1: 0.6395 | 📉 Loss: 0.6484\n",
      "🔥 Saved best model at epoch 40 with F1 = 0.6395\n",
      "\n",
      "📅 Epoch 41/50\n"
     ]
    },
    {
     "data": {
      "application/vnd.jupyter.widget-view+json": {
       "model_id": "77bbf635e9294e1b9a2f8a44b7aaad8b",
       "version_major": 2,
       "version_minor": 0
      },
      "text/plain": [
       "🪝️ Train 41:   0%|          | 0/370 [00:04<?, ?it/s]"
      ]
     },
     "metadata": {},
     "output_type": "display_data"
    },
    {
     "data": {
      "application/vnd.jupyter.widget-view+json": {
       "model_id": "a18992df64824672b79289d5e79bb8ed",
       "version_major": 2,
       "version_minor": 0
      },
      "text/plain": [
       "Validate 41:   0%|          | 0/80 [00:05<?, ?it/s]"
      ]
     },
     "metadata": {},
     "output_type": "display_data"
    },
    {
     "name": "stdout",
     "output_type": "stream",
     "text": [
      "✅ Epoch 41 | 🔁 LR: 4.62e-05 | 🎯 Acc: 0.6429 | 🧠 F1: 0.6398 | 📉 Loss: 0.6572\n",
      "🔥 Saved best model at epoch 41 with F1 = 0.6398\n",
      "\n",
      "📅 Epoch 42/50\n"
     ]
    },
    {
     "data": {
      "application/vnd.jupyter.widget-view+json": {
       "model_id": "a5c36592d75e4573bad6a8d84e703487",
       "version_major": 2,
       "version_minor": 0
      },
      "text/plain": [
       "🪝️ Train 42:   0%|          | 0/370 [00:04<?, ?it/s]"
      ]
     },
     "metadata": {},
     "output_type": "display_data"
    },
    {
     "data": {
      "application/vnd.jupyter.widget-view+json": {
       "model_id": "06ffddb3663548b99d118d36847b8af3",
       "version_major": 2,
       "version_minor": 0
      },
      "text/plain": [
       "Validate 42:   0%|          | 0/80 [00:05<?, ?it/s]"
      ]
     },
     "metadata": {},
     "output_type": "display_data"
    },
    {
     "name": "stdout",
     "output_type": "stream",
     "text": [
      "✅ Epoch 42 | 🔁 LR: 3.69e-05 | 🎯 Acc: 0.6421 | 🧠 F1: 0.6390 | 📉 Loss: 0.6640\n",
      "\n",
      "📅 Epoch 43/50\n"
     ]
    },
    {
     "data": {
      "application/vnd.jupyter.widget-view+json": {
       "model_id": "6ef0cf046f2d43659bdeb0062feb3286",
       "version_major": 2,
       "version_minor": 0
      },
      "text/plain": [
       "🪝️ Train 43:   0%|          | 0/370 [00:04<?, ?it/s]"
      ]
     },
     "metadata": {},
     "output_type": "display_data"
    },
    {
     "data": {
      "application/vnd.jupyter.widget-view+json": {
       "model_id": "15a4f270a8c848f6ad6a67bc6048c70f",
       "version_major": 2,
       "version_minor": 0
      },
      "text/plain": [
       "Validate 43:   0%|          | 0/80 [00:05<?, ?it/s]"
      ]
     },
     "metadata": {},
     "output_type": "display_data"
    },
    {
     "name": "stdout",
     "output_type": "stream",
     "text": [
      "✅ Epoch 43 | 🔁 LR: 2.86e-05 | 🎯 Acc: 0.6374 | 🧠 F1: 0.6337 | 📉 Loss: 0.6466\n",
      "\n",
      "📅 Epoch 44/50\n"
     ]
    },
    {
     "data": {
      "application/vnd.jupyter.widget-view+json": {
       "model_id": "c456d1fac93d48aaafadbfbcab94a443",
       "version_major": 2,
       "version_minor": 0
      },
      "text/plain": [
       "🪝️ Train 44:   0%|          | 0/370 [00:04<?, ?it/s]"
      ]
     },
     "metadata": {},
     "output_type": "display_data"
    },
    {
     "data": {
      "application/vnd.jupyter.widget-view+json": {
       "model_id": "bd35d17650434518988d53c5ded07259",
       "version_major": 2,
       "version_minor": 0
      },
      "text/plain": [
       "Validate 44:   0%|          | 0/80 [00:05<?, ?it/s]"
      ]
     },
     "metadata": {},
     "output_type": "display_data"
    },
    {
     "name": "stdout",
     "output_type": "stream",
     "text": [
      "✅ Epoch 44 | 🔁 LR: 2.12e-05 | 🎯 Acc: 0.6405 | 🧠 F1: 0.6376 | 📉 Loss: 0.6358\n",
      "\n",
      "📅 Epoch 45/50\n"
     ]
    },
    {
     "data": {
      "application/vnd.jupyter.widget-view+json": {
       "model_id": "a302ea3bb5a2499e8ebbd9cee99ddd3c",
       "version_major": 2,
       "version_minor": 0
      },
      "text/plain": [
       "🪝️ Train 45:   0%|          | 0/370 [00:04<?, ?it/s]"
      ]
     },
     "metadata": {},
     "output_type": "display_data"
    },
    {
     "data": {
      "application/vnd.jupyter.widget-view+json": {
       "model_id": "317e71af2f464fd7b8518b0221d4c6d3",
       "version_major": 2,
       "version_minor": 0
      },
      "text/plain": [
       "Validate 45:   0%|          | 0/80 [00:05<?, ?it/s]"
      ]
     },
     "metadata": {},
     "output_type": "display_data"
    },
    {
     "name": "stdout",
     "output_type": "stream",
     "text": [
      "✅ Epoch 45 | 🔁 LR: 1.48e-05 | 🎯 Acc: 0.6433 | 🧠 F1: 0.6392 | 📉 Loss: 0.6021\n",
      "\n",
      "📅 Epoch 46/50\n"
     ]
    },
    {
     "data": {
      "application/vnd.jupyter.widget-view+json": {
       "model_id": "8e7be6dd29e34ff3a3305bdc89d65695",
       "version_major": 2,
       "version_minor": 0
      },
      "text/plain": [
       "🪝️ Train 46:   0%|          | 0/370 [00:05<?, ?it/s]"
      ]
     },
     "metadata": {},
     "output_type": "display_data"
    },
    {
     "data": {
      "application/vnd.jupyter.widget-view+json": {
       "model_id": "9bd1d3db7fec482a889e27c40a0f47d1",
       "version_major": 2,
       "version_minor": 0
      },
      "text/plain": [
       "Validate 46:   0%|          | 0/80 [00:05<?, ?it/s]"
      ]
     },
     "metadata": {},
     "output_type": "display_data"
    },
    {
     "name": "stdout",
     "output_type": "stream",
     "text": [
      "✅ Epoch 46 | 🔁 LR: 9.51e-06 | 🎯 Acc: 0.6370 | 🧠 F1: 0.6329 | 📉 Loss: 0.6295\n",
      "\n",
      "📅 Epoch 47/50\n"
     ]
    },
    {
     "name": "stderr",
     "output_type": "stream",
     "text": [
      "IOStream.flush timed out\n",
      "IOStream.flush timed out\n",
      "IOStream.flush timed out\n",
      "IOStream.flush timed out\n",
      "IOStream.flush timed out\n",
      "IOStream.flush timed out\n",
      "IOStream.flush timed out\n",
      "IOStream.flush timed out\n",
      "IOStream.flush timed out\n",
      "IOStream.flush timed out\n"
     ]
    },
    {
     "data": {
      "application/vnd.jupyter.widget-view+json": {
       "model_id": "0e81edde15624a258e5b17d33d6c6d90",
       "version_major": 2,
       "version_minor": 0
      },
      "text/plain": [
       "🪝️ Train 47:   0%|          | 0/370 [00:49<?, ?it/s]"
      ]
     },
     "metadata": {},
     "output_type": "display_data"
    },
    {
     "data": {
      "application/vnd.jupyter.widget-view+json": {
       "model_id": "7ec6dcbe31964cffb7bb57c5b2e9e01a",
       "version_major": 2,
       "version_minor": 0
      },
      "text/plain": [
       "Validate 47:   0%|          | 0/80 [00:05<?, ?it/s]"
      ]
     },
     "metadata": {},
     "output_type": "display_data"
    },
    {
     "name": "stdout",
     "output_type": "stream",
     "text": [
      "✅ Epoch 47 | 🔁 LR: 5.37e-06 | 🎯 Acc: 0.6453 | 🧠 F1: 0.6415 | 📉 Loss: 0.6118\n",
      "🔥 Saved best model at epoch 47 with F1 = 0.6415\n",
      "\n",
      "📅 Epoch 48/50\n"
     ]
    },
    {
     "data": {
      "application/vnd.jupyter.widget-view+json": {
       "model_id": "607ad0d225cf4e94869a43e0d79beb8c",
       "version_major": 2,
       "version_minor": 0
      },
      "text/plain": [
       "🪝️ Train 48:   0%|          | 0/370 [00:05<?, ?it/s]"
      ]
     },
     "metadata": {},
     "output_type": "display_data"
    },
    {
     "data": {
      "application/vnd.jupyter.widget-view+json": {
       "model_id": "48b657a626e5452994788db1ffaaa04d",
       "version_major": 2,
       "version_minor": 0
      },
      "text/plain": [
       "Validate 48:   0%|          | 0/80 [00:05<?, ?it/s]"
      ]
     },
     "metadata": {},
     "output_type": "display_data"
    },
    {
     "name": "stdout",
     "output_type": "stream",
     "text": [
      "✅ Epoch 48 | 🔁 LR: 2.39e-06 | 🎯 Acc: 0.6405 | 🧠 F1: 0.6379 | 📉 Loss: 0.6488\n",
      "\n",
      "📅 Epoch 49/50\n"
     ]
    },
    {
     "data": {
      "application/vnd.jupyter.widget-view+json": {
       "model_id": "485a3f0e99f44599b9e4d0ac53a2af28",
       "version_major": 2,
       "version_minor": 0
      },
      "text/plain": [
       "🪝️ Train 49:   0%|          | 0/370 [00:04<?, ?it/s]"
      ]
     },
     "metadata": {},
     "output_type": "display_data"
    },
    {
     "data": {
      "application/vnd.jupyter.widget-view+json": {
       "model_id": "644e5ef7b21843f386bb3919f7f1324f",
       "version_major": 2,
       "version_minor": 0
      },
      "text/plain": [
       "Validate 49:   0%|          | 0/80 [00:05<?, ?it/s]"
      ]
     },
     "metadata": {},
     "output_type": "display_data"
    },
    {
     "name": "stdout",
     "output_type": "stream",
     "text": [
      "✅ Epoch 49 | 🔁 LR: 5.92e-07 | 🎯 Acc: 0.6433 | 🧠 F1: 0.6400 | 📉 Loss: 0.6258\n",
      "\n",
      "📅 Epoch 50/50\n"
     ]
    },
    {
     "data": {
      "application/vnd.jupyter.widget-view+json": {
       "model_id": "1e155828f62445588a24882cc3b0a657",
       "version_major": 2,
       "version_minor": 0
      },
      "text/plain": [
       "🪝️ Train 50:   0%|          | 0/370 [00:04<?, ?it/s]"
      ]
     },
     "metadata": {},
     "output_type": "display_data"
    },
    {
     "data": {
      "application/vnd.jupyter.widget-view+json": {
       "model_id": "bff85b3277b8448982d125eaa5eb456a",
       "version_major": 2,
       "version_minor": 0
      },
      "text/plain": [
       "Validate 50:   0%|          | 0/80 [00:05<?, ?it/s]"
      ]
     },
     "metadata": {},
     "output_type": "display_data"
    },
    {
     "name": "stdout",
     "output_type": "stream",
     "text": [
      "✅ Epoch 50 | 🔁 LR: 1.27e-09 | 🎯 Acc: 0.6441 | 🧠 F1: 0.6406 | 📉 Loss: 0.6117\n",
      "🌡️ Calibrated Temp: 1.1560\n",
      "\n",
      "📊 Final Classification Report:\n",
      "Final Classification Report:\n",
      "              precision    recall  f1-score   support\n",
      "\n",
      "       angry       0.59      0.58      0.58       266\n",
      "    confused       0.51      0.42      0.46       193\n",
      "     disgust       0.56      0.48      0.52       207\n",
      "        fear       0.67      0.80      0.73       435\n",
      "       happy       0.75      0.79      0.77       288\n",
      "     neutral       0.71      0.64      0.68       275\n",
      "         sad       0.64      0.65      0.64       410\n",
      "         shy       0.58      0.62      0.60       185\n",
      "    surprise       0.65      0.60      0.62       278\n",
      "\n",
      "    accuracy                           0.64      2537\n",
      "   macro avg       0.63      0.62      0.62      2537\n",
      "weighted avg       0.64      0.64      0.64      2537\n",
      "\n"
     ]
    },
    {
     "data": {
      "image/png": "[encoded data removed]",
      "text/plain": [
       "<Figure size 1000x800 with 2 Axes>"
      ]
     },
     "metadata": {},
     "output_type": "display_data"
    }
   ],
   "source": [
    "# ----------------- Model -----------------\n",
    "model = create_model(\"mobilevitv2_100\", pretrained=True)\n",
    "feature_dim = model.get_classifier().in_features\n",
    "model.reset_classifier(NUM_CLASSES)\n",
    "\n",
    "for p in model.parameters():\n",
    "    p.requires_grad = False\n",
    "for p in model.get_classifier().parameters():\n",
    "    p.requires_grad = True\n",
    "model.to(device)\n",
    "\n",
    "# ----------------- Optimizer and Scheduler -----------------\n",
    "optimizer = torch.optim.AdamW([\n",
    "    {\"params\": model.get_classifier().parameters(), \"lr\": 3e-4, \"initial_lr\": 3e-4, \"max_lr\": 3e-4, \"min_lr\": 3e-5}\n",
    "])\n",
    "steps_per_epoch = len(train_loader) // GRAD_ACCUM\n",
    "scheduler = torch.optim.lr_scheduler.OneCycleLR(\n",
    "    optimizer, max_lr=3e-4, steps_per_epoch=steps_per_epoch, epochs=EPOCHS, pct_start=0.3, cycle_momentum=False\n",
    ")\n",
    "ema = ExponentialMovingAverage(model.parameters(), decay=0.995) if USE_EMA else None\n",
    "mixup_fn = Mixup(\n",
    "    mixup_alpha=0.2, \n",
    "    cutmix_alpha=0.2, \n",
    "    prob=0.5,\n",
    "    num_classes=NUM_CLASSES\n",
    ")\n",
    "\n",
    "# ----------------- Unfreezing Helper -----------------\n",
    "def unfreeze(module):\n",
    "    for param in module.parameters():\n",
    "        param.requires_grad = True\n",
    "\n",
    "# ----------------- Training Loop -----------------\n",
    "best_f1 = 0\n",
    "best_model_path = None\n",
    "for epoch in range(EPOCHS):\n",
    "    print(f\"\\n\\U0001f4c5 Epoch {epoch+1}/{EPOCHS}\")\n",
    "    model.train()\n",
    "    optimizer.zero_grad()\n",
    "\n",
    "    if epoch == 0:\n",
    "        print(\"Unfreezing Stage 4 (deepest)\")\n",
    "        unfreeze(model.stages[4])\n",
    "        optimizer.add_param_group({\"params\": model.stages[4].parameters(), \"lr\": 1e-4, \"initial_lr\": 1e-4, \"max_lr\":1e-4, \"min_lr\":1e-5})\n",
    "    if epoch == 1:\n",
    "        print(\"Unfreezing Stage 3\")\n",
    "        unfreeze(model.stages[3])\n",
    "        optimizer.add_param_group({\"params\": model.stages[3].parameters(), \"lr\": 1e-4, \"initial_lr\": 1e-4, \"max_lr\":1e-4, \"min_lr\":1e-5})\n",
    "    if epoch == 3:\n",
    "        print(\"Unfreezing Stage 2\")\n",
    "        unfreeze(model.stages[2])\n",
    "        optimizer.add_param_group({\"params\": model.stages[2].parameters(), \"lr\": 1e-4, \"initial_lr\": 1e-4, \"max_lr\":1e-4, \"min_lr\":1e-5})\n",
    "    if epoch == 5:\n",
    "        print(\"Unfreezing Stage 1 (earliest layers)\")\n",
    "        unfreeze(model.stages[1])\n",
    "        optimizer.add_param_group({\"params\": model.stages[1].parameters(), \"lr\": 5e-5, \"initial_lr\": 5e-5, \"max_lr\": 5e-5, \"min_lr\": 5e-6})\n",
    "\n",
    "    running_loss = 0.0\n",
    "    for i, (x, y) in enumerate(tqdm(train_loader, desc=f\"\\U0001fa9d️ Train {epoch+1:02d}\")):\n",
    "        x, y = x.to(device), y.to(device)\n",
    "        x, y = mixup_fn(x, y)\n",
    "        outputs = model(x)\n",
    "        loss = criterion(outputs, y)\n",
    "        loss.backward()\n",
    "        running_loss += loss.item()\n",
    "\n",
    "        if (i + 1) % GRAD_ACCUM == 0:\n",
    "            torch.nn.utils.clip_grad_norm_(model.parameters(), max_norm=2.0)\n",
    "            optimizer.step()\n",
    "            scheduler.step()\n",
    "            optimizer.zero_grad(set_to_none=True)\n",
    "            if ema:\n",
    "                ema.update()\n",
    "\n",
    "    \n",
    "    avg_loss = running_loss / len(train_loader)\n",
    "\n",
    "    if ema:\n",
    "        ema.store()\n",
    "        ema.copy_to(model.parameters())\n",
    "\n",
    "    model.eval()\n",
    "    preds, targets = [], []\n",
    "    with torch.no_grad():\n",
    "        for x, y in tqdm(val_loader, desc=f\"Validate {epoch+1:02d}\"):\n",
    "            x, y = x.to(device), y.to(device)\n",
    "            logits = model(x)\n",
    "            preds += logits.argmax(1).cpu().tolist()\n",
    "            targets += y.cpu().tolist()\n",
    "\n",
    "    if ema:\n",
    "        ema.restore()\n",
    "\n",
    "    acc = accuracy_score(targets, preds)\n",
    "    f1 = f1_score(targets, preds, average='weighted')\n",
    "    print(f\"✅ Epoch {epoch+1:02d} | 🔁 LR: {scheduler.get_last_lr()[0]:.2e} | 🎯 Acc: {acc:.4f} | 🧠 F1: {f1:.4f} | 📉 Loss: {avg_loss:.4f}\")\n",
    "\n",
    "    if f1 > best_f1:\n",
    "        best_f1 = f1\n",
    "        if ema:\n",
    "            ema.store()\n",
    "            ema.copy_to(model.parameters())\n",
    "            best_model_path = os.path.join(SAVE_DIR, f\"best_model_ema_{epoch+1}.pth\")  # ⬅️ store exact path\n",
    "            torch.save(model.state_dict(), best_model_path)\n",
    "            ema.restore()\n",
    "        else:\n",
    "            best_model_path = os.path.join(SAVE_DIR, f\"best_model_{epoch+1}.pth\")  # ⬅️ store exact path\n",
    "            torch.save(model.state_dict(), best_model_path)\n",
    "        print(f\"🔥 Saved best model at epoch {epoch+1} with F1 = {f1:.4f}\")\n",
    "\n",
    "# ----------------- Final Evaluation -----------------\n",
    "if best_model_path is not None and os.path.exists(best_model_path):\n",
    "    model.load_state_dict(torch.load(best_model_path))\n",
    "    calibrate_temperature(model, val_loader)\n",
    "\n",
    "    print(\"\\n📊 Final Classification Report:\")\n",
    "    # Evaluate with the best model...\n",
    "else:\n",
    "    print(\"❌ No best model was saved during training.\")\n",
    "\n",
    "print(\"Final Classification Report:\")\n",
    "print(classification_report(targets, preds, target_names=val_ds.classes))\n",
    "cm = confusion_matrix(targets, preds)\n",
    "plt.figure(figsize=(10, 8))\n",
    "sns.heatmap(cm, annot=True, fmt=\"d\", cmap=\"Blues\", xticklabels=val_ds.classes, yticklabels=val_ds.classes)\n",
    "plt.title(\"Confusion Matrix\")\n",
    "plt.tight_layout()\n",
    "plt.show()"
   ]
  }
 ],
 "metadata": {
  "kernelspec": {
   "display_name": "ml",
   "language": "python",
   "name": "python3"
  },
  "language_info": {
   "codemirror_mode": {
    "name": "ipython",
    "version": 3
   },
   "file_extension": ".py",
   "mimetype": "text/x-python",
   "name": "python",
   "nbconvert_exporter": "python",
   "pygments_lexer": "ipython3",
   "version": "3.12.2"
  }
 },
 "nbformat": 4,
 "nbformat_minor": 2
}
